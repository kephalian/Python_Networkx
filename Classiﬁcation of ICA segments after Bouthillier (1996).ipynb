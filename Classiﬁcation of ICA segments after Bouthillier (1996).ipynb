{
 "cells": [
  {
   "cell_type": "markdown",
   "metadata": {},
   "source": [
    "# Classiﬁcation of ICA segments after Bouthillier (1996)\n",
    "\n",
    "The new classiﬁcation divides the internal  carotid artery according to its course through the skull base from proximal \n",
    "to distal. This  approach, using a more logical  numerical scale, may be more practical since it follows the blood ﬂ ow and helps identify perti-\n",
    "nent parts of anatomy, given current techniques of cranial base surgery and identiﬁ ed abnormalities. (Ogilvy, comment in Neurosurgery, Volume \n",
    "38 (3), March 1996, pp 425-433 1996)."
   ]
  },
  {
   "cell_type": "code",
   "execution_count": 2,
   "metadata": {},
   "outputs": [],
   "source": [
    "from matplotlib import pyplot as plt\n",
    "import networkx as nx\n",
    "%matplotlib inline"
   ]
  },
  {
   "cell_type": "markdown",
   "metadata": {},
   "source": [
    "Android code"
   ]
  },
  {
   "cell_type": "code",
   "execution_count": 3,
   "metadata": {},
   "outputs": [],
   "source": [
    "#import os\n",
    "#os.chdir('/storage/emulated/0')"
   ]
  },
  {
   "cell_type": "markdown",
   "metadata": {},
   "source": [
    "Init our plots and directed graph"
   ]
  },
  {
   "cell_type": "code",
   "execution_count": 6,
   "metadata": {},
   "outputs": [
    {
     "data": {
      "text/plain": [
       "<Figure size 432x288 with 0 Axes>"
      ]
     },
     "metadata": {},
     "output_type": "display_data"
    },
    {
     "data": {
      "text/plain": [
       "<Figure size 1800x1440 with 0 Axes>"
      ]
     },
     "metadata": {},
     "output_type": "display_data"
    }
   ],
   "source": [
    "plt.tight_layout(h_pad=5)\n",
    "plt.figure(figsize=(25,20))\n",
    "options = {\n",
    "    #\"font_size\": 36,\n",
    "   \"node_size\": 1000,\n",
    "    \"node_color\": \"yellow\",\n",
    "    \"edgecolors\": \"black\",\n",
    "    'edge_color' :'green',\n",
    "    \"linewidths\": 3,\n",
    "    \"width\": 3,\n",
    "}\n",
    "g1 = nx.DiGraph()"
   ]
  },
  {
   "cell_type": "markdown",
   "metadata": {},
   "source": [
    "Add branches and nodes directly from a dictionary"
   ]
  },
  {
   "cell_type": "code",
   "execution_count": 5,
   "metadata": {},
   "outputs": [],
   "source": [
    "g1.add_edges_from([(\"Aorta\",\"CC\"),\n",
    "(\"CC\",\"C1\"),\n",
    "(\"C1\",\"C2\"),\n",
    "(\"C2\",\"C3\"),(\"C3\",\"C4\"),(\"C4\",\"C5\"),(\"C5\",\"C6\"),(\"C6\",\"C7\"),(\"C7\",\"PComA\")\n",
    "  ])\n",
    "  \n",
    "g1.add_edges_from([(\"C5\",\"MHT\"), (\"C4\",\"InfLT\"), (\"C4\",\"CapA\"),   (\"MHT\",\"LInHA\"), (\"MHT\",\"CA\"), (\"MHT\",\"MCA\"),(\"MHT\",\"BTA\")\n",
    "   ])\n",
    "\n",
    "g1.add_edges_from([(\"InfLT\",\"SR\"), (\"SR\", \"MgTA\"),\n",
    "(\"InfLT\",\"AMRm\"), (\"InfLT\",\"ALRm\"),\n",
    "(\"InfLT\",\"PMRm\"), (\"InfLT\",\"PLRm\"),\n",
    "\n",
    "   ])"
   ]
  },
  {
   "cell_type": "markdown",
   "metadata": {},
   "source": [
    "Plots"
   ]
  },
  {
   "cell_type": "code",
   "execution_count": 8,
   "metadata": {},
   "outputs": [
    {
     "data": {
      "image/png": "[encoded data removed]",
      "text/plain": [
       "<Figure size 432x288 with 1 Axes>"
      ]
     },
     "metadata": {},
     "output_type": "display_data"
    }
   ],
   "source": [
    "nx.draw_networkx(g1, pos=nx.circular_layout(g1), **options)\n",
    "plt.title(\"New classification of ICA segments after Bouthillier (1996)\")\n",
    "ax = plt.gca()\n",
    "ax.margins(0.20)\n",
    "plt.axis(\"off\")\n",
    "\n",
    "plt.savefig(\"New_classification_of_ICA_segments after_Bouthillier (1996).svg\", dpi=300,bbox_inches='tight')\n",
    "plt.savefig(\"New_classification_of_ICA_segments after_Bouthillier (1996).png\", dpi=300,bbox_inches='tight')\n",
    "plt.show()"
   ]
  }
 ],
 "metadata": {
  "kernelspec": {
   "display_name": "Python 3.10.4 64-bit",
   "language": "python",
   "name": "python3"
  },
  "language_info": {
   "codemirror_mode": {
    "name": "ipython",
    "version": 3
   },
   "file_extension": ".py",
   "mimetype": "text/x-python",
   "name": "python",
   "nbconvert_exporter": "python",
   "pygments_lexer": "ipython3",
   "version": "3.10.4"
  },
  "orig_nbformat": 4,
  "vscode": {
   "interpreter": {
    "hash": "369f2c481f4da34e4445cda3fffd2e751bd1c4d706f27375911949ba6bb62e1c"
   }
  }
 },
 "nbformat": 4,
 "nbformat_minor": 2
}
